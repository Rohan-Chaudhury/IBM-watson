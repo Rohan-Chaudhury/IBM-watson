{
    "nbformat_minor": 1, 
    "cells": [
        {
            "source": "# Tensorflow Example\n\n### A Multi Layer Perceptron to classify hand-written digits from MNIST dataset using Tensorflow.", 
            "cell_type": "markdown", 
            "metadata": {}
        }, 
        {
            "source": "from tensorflow.examples.tutorials.mnist import input_data", 
            "cell_type": "code", 
            "metadata": {}, 
            "outputs": [], 
            "execution_count": 1
        }, 
        {
            "source": "mnist=input_data.read_data_sets(\"MNIST_data/\",one_hot=True)\n", 
            "cell_type": "code", 
            "metadata": {}, 
            "outputs": [
                {
                    "output_type": "stream", 
                    "name": "stdout", 
                    "text": "Extracting MNIST_data/train-images-idx3-ubyte.gz\nExtracting MNIST_data/train-labels-idx1-ubyte.gz\nExtracting MNIST_data/t10k-images-idx3-ubyte.gz\nExtracting MNIST_data/t10k-labels-idx1-ubyte.gz\n"
                }
            ], 
            "execution_count": 5
        }, 
        {
            "source": "import tensorflow as tf\n%matplotlib inline\nimport matplotlib.pyplot as plt\nbatch_xs,batch_ys=mnist.train.next_batch(1)", 
            "cell_type": "code", 
            "metadata": {}, 
            "outputs": [], 
            "execution_count": 6
        }, 
        {
            "source": "X=batch_xs\nX=X.reshape([28,28])\nplt.gray()\nprint (batch_ys)\nplt.imshow(X)\n", 
            "cell_type": "code", 
            "metadata": {}, 
            "outputs": [
                {
                    "output_type": "stream", 
                    "name": "stdout", 
                    "text": "[[ 0.  0.  1.  0.  0.  0.  0.  0.  0.  0.]]\n"
                }, 
                {
                    "output_type": "execute_result", 
                    "data": {
                        "text/plain": "<matplotlib.image.AxesImage at 0x7f3acd0555f8>"
                    }, 
                    "execution_count": 7, 
                    "metadata": {}
                }, 
                {
                    "output_type": "display_data", 
                    "data": {
                        "image/png": "[encoded data removed]", 
                        "text/plain": "<matplotlib.figure.Figure at 0x7f3acd00c4e0>"
                    }, 
                    "metadata": {}
                }
            ], 
            "execution_count": 7
        }, 
        {
            "source": "x=tf.placeholder(tf.float32,[None,784])\nw=tf.Variable(tf.zeros([784,10]))\nb=tf.Variable(tf.zeros([10]))\ny=tf.nn.softmax(tf.matmul(x,w)+b)\ny_=tf.placeholder(tf.float32,[None,10])\ncross_entropy=(tf.reduce_mean(-tf.reduce_sum(y_*tf.log(y),reduction_indices=[1])))\ntrain_step=tf.train.GradientDescentOptimizer(0.5).minimize(cross_entropy)\nsess=tf.InteractiveSession()\ntf.global_variables_initializer().run()\nfor _ in range(1000):\n    batch_x,batch_y=mnist.train.next_batch(100)\n    sess.run(train_step,feed_dict={x:batch_x,y_:batch_y})\n               ", 
            "cell_type": "code", 
            "metadata": {}, 
            "outputs": [], 
            "execution_count": 8
        }, 
        {
            "source": "prediction=tf.equal(tf.argmax(y,1),tf.argmax(y_,1))\naccuracy=tf.reduce_mean(tf.cast(prediction,tf.float32))\nprint(sess.run(accuracy,feed_dict={x:mnist.test.images,y_:mnist.test.labels}))", 
            "cell_type": "code", 
            "metadata": {}, 
            "outputs": [
                {
                    "output_type": "stream", 
                    "name": "stdout", 
                    "text": "0.9196\n"
                }
            ], 
            "execution_count": 9
        }, 
        {
            "source": "file_writer = tf.summary.FileWriter('logs', sess.graph)", 
            "cell_type": "code", 
            "metadata": {}, 
            "outputs": [], 
            "execution_count": 11
        }, 
        {
            "source": "!tensorboard --logdir path/to/logs", 
            "cell_type": "code", 
            "metadata": {}, 
            "outputs": [
                {
                    "output_type": "stream", 
                    "name": "stdout", 
                    "text": "2018-04-02 16:49:08.465578: W tensorflow/core/platform/cpu_feature_guard.cc:45] The TensorFlow library wasn't compiled to use SSE4.1 instructions, but these are available on your machine and could speed up CPU computations.\n2018-04-02 16:49:08.465636: W tensorflow/core/platform/cpu_feature_guard.cc:45] The TensorFlow library wasn't compiled to use SSE4.2 instructions, but these are available on your machine and could speed up CPU computations.\n2018-04-02 16:49:08.465671: W tensorflow/core/platform/cpu_feature_guard.cc:45] The TensorFlow library wasn't compiled to use AVX instructions, but these are available on your machine and could speed up CPU computations.\n2018-04-02 16:49:08.465698: W tensorflow/core/platform/cpu_feature_guard.cc:45] The TensorFlow library wasn't compiled to use AVX2 instructions, but these are available on your machine and could speed up CPU computations.\n2018-04-02 16:49:08.465725: W tensorflow/core/platform/cpu_feature_guard.cc:45] The TensorFlow library wasn't compiled to use FMA instructions, but these are available on your machine and could speed up CPU computations.\nTensorBoard 1.7.0 at http://yp-spark-dal09-env5-0034:6006 (Press CTRL+C to quit)\n"
                }
            ], 
            "execution_count": null
        }, 
        {
            "source": "", 
            "cell_type": "code", 
            "metadata": {}, 
            "outputs": [], 
            "execution_count": null
        }
    ], 
    "metadata": {
        "kernelspec": {
            "display_name": "Python 3.5 with Spark 2.1", 
            "name": "python3-spark21", 
            "language": "python"
        }, 
        "language_info": {
            "mimetype": "text/x-python", 
            "nbconvert_exporter": "python", 
            "version": "3.5.4", 
            "name": "python", 
            "pygments_lexer": "ipython3", 
            "file_extension": ".py", 
            "codemirror_mode": {
                "version": 3, 
                "name": "ipython"
            }
        }
    }, 
    "nbformat": 4
}